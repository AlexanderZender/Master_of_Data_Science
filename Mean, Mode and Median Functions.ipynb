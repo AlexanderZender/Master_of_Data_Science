{
 "cells": [
  {
   "cell_type": "markdown",
   "id": "7741a4a4",
   "metadata": {},
   "source": [
    "Mean, mode and median functions tested on a random list, using functions built in Python"
   ]
  },
  {
   "cell_type": "code",
   "execution_count": 32,
   "id": "c0c0a5e8",
   "metadata": {
    "scrolled": true
   },
   "outputs": [
    {
     "data": {
      "text/plain": [
       "[3, 5, 2, 1, 2]"
      ]
     },
     "execution_count": 32,
     "metadata": {},
     "output_type": "execute_result"
    }
   ],
   "source": [
    "import random\n",
    "from collections import Counter\n",
    "\n",
    "def randomList():\n",
    "   \n",
    "    length = random.randrange(1,5)\n",
    "    randList = []\n",
    "   \n",
    "    for i in range(0, 5):\n",
    "        n = random.randint(1,5)\n",
    "        randList.append(n)\n",
    "    return(randList)\n",
    "\n",
    "randomList()"
   ]
  },
  {
   "cell_type": "code",
   "execution_count": 33,
   "id": "67677d5a",
   "metadata": {},
   "outputs": [
    {
     "name": "stdout",
     "output_type": "stream",
     "text": [
      "mean =  3.4\n"
     ]
    }
   ],
   "source": [
    "def mean(randList):\n",
    "    sum = 0\n",
    "    i=0\n",
    "    while (i<len(randList)):\n",
    "        sum = sum + randList[i]\n",
    "        i = i+1\n",
    "    print(\"mean = \", sum/len(randList))\n",
    "\n",
    "mean(randomList())"
   ]
  },
  {
   "cell_type": "code",
   "execution_count": 36,
   "id": "e48207e9",
   "metadata": {},
   "outputs": [
    {
     "name": "stdout",
     "output_type": "stream",
     "text": [
      "The median is 2\n"
     ]
    }
   ],
   "source": [
    "def median(randList):\n",
    "    randList.sort()\n",
    "    #make length a variable\n",
    "    length = len(randList)\n",
    "    #if number of elements are odd\n",
    "    if (length %2 == 1 ):\n",
    "        median = randList[length//2]\n",
    "    #if the number is even\n",
    "    else:\n",
    "        median = (randList[length//2] + randList[(length//2)-1])/2\n",
    "    print(\"The median is\", median)\n",
    "    \n",
    "median(randomList())"
   ]
  },
  {
   "cell_type": "code",
   "execution_count": 37,
   "id": "52127f89",
   "metadata": {},
   "outputs": [
    {
     "name": "stdout",
     "output_type": "stream",
     "text": [
      "Counter({3: 2, 2: 2, 1: 1})\n",
      "The mode is/are:  [3, 2]\n",
      "The most number of appearences was/were 2\n"
     ]
    }
   ],
   "source": [
    "def mode(randList):\n",
    "    result = []  \n",
    "    freq = Counter(randList)\n",
    "    maxV = freq.most_common(1) [0][1]\n",
    "    print(freq)    \n",
    "   \n",
    "   \n",
    "    for i in freq.items():        \n",
    "        if i[1] == maxV:\n",
    "            result.append(i[0])\n",
    "       \n",
    "    print(\"The mode is/are: \", result)  \n",
    "    print(\"The most number of appearences was/were\" , maxV)\n",
    "    \n",
    "mode(randomList())"
   ]
  }
 ],
 "metadata": {
  "kernelspec": {
   "display_name": "Python 3",
   "language": "python",
   "name": "python3"
  },
  "language_info": {
   "codemirror_mode": {
    "name": "ipython",
    "version": 3
   },
   "file_extension": ".py",
   "mimetype": "text/x-python",
   "name": "python",
   "nbconvert_exporter": "python",
   "pygments_lexer": "ipython3",
   "version": "3.8.8"
  }
 },
 "nbformat": 4,
 "nbformat_minor": 5
}
