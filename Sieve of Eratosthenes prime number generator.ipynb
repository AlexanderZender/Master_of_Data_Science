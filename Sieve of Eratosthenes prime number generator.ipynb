{
 "cells": [
  {
   "cell_type": "code",
   "execution_count": null,
   "id": "778e9e59",
   "metadata": {},
   "outputs": [],
   "source": [
    "Sieve of Eratosthenes prime number generator"
   ]
  },
  {
   "cell_type": "code",
   "execution_count": 4,
   "id": "9f14adc6",
   "metadata": {},
   "outputs": [
    {
     "name": "stdout",
     "output_type": "stream",
     "text": [
      "2  3  5  7  11  13  17  19  23  29  31  37  41  43  47  "
     ]
    }
   ],
   "source": [
    "from math import isqrt\n",
    "\n",
    "def sieve(upper):\n",
    "    #index\n",
    "    results = [True]* upper\n",
    "    results[0] = False\n",
    "    results[1] = False\n",
    "   \n",
    "    for i in range(2, (isqrt(upper)+1)):\n",
    "        if results[i]:\n",
    "            for j in range(i*i, upper, i):\n",
    "                results[j] = False\n",
    "   \n",
    "    for a in range(2,upper):\n",
    "        if results[a] == True:\n",
    "            print(a, end=\"  \")\n",
    "   \n",
    "sieve(50)"
   ]
  }
 ],
 "metadata": {
  "kernelspec": {
   "display_name": "Python 3",
   "language": "python",
   "name": "python3"
  },
  "language_info": {
   "codemirror_mode": {
    "name": "ipython",
    "version": 3
   },
   "file_extension": ".py",
   "mimetype": "text/x-python",
   "name": "python",
   "nbconvert_exporter": "python",
   "pygments_lexer": "ipython3",
   "version": "3.8.8"
  }
 },
 "nbformat": 4,
 "nbformat_minor": 5
}
