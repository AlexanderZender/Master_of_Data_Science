{
 "cells": [
  {
   "cell_type": "markdown",
   "id": "56942658",
   "metadata": {},
   "source": [
    "Mean Mode and Median Functions using in-built Python Functions and a Numpy array as data input"
   ]
  },
  {
   "cell_type": "code",
   "execution_count": 1,
   "id": "f2aa02c8",
   "metadata": {},
   "outputs": [
    {
     "name": "stdout",
     "output_type": "stream",
     "text": [
      "[ 5 18  7  6  8 14 10 16 11 11 12 15 17  7 19]\n"
     ]
    }
   ],
   "source": [
    "import numpy as np\n",
    "import random\n",
    "from collections import Counter\n",
    "\n",
    "\n",
    "nparray = np.random.randint(20, size=15)  # One-dimensional array\n",
    "print(nparray)"
   ]
  },
  {
   "cell_type": "code",
   "execution_count": 2,
   "id": "0bf40b41",
   "metadata": {},
   "outputs": [
    {
     "name": "stdout",
     "output_type": "stream",
     "text": [
      "mean =  11.733333333333333\n"
     ]
    }
   ],
   "source": [
    "def mean(nparray):\n",
    "    sum = 0\n",
    "    i=0\n",
    "    while (i<len(nparray)):\n",
    "        sum = sum + nparray[i]\n",
    "        i = i+1\n",
    "    print(\"mean = \", sum/len(nparray))\n",
    "\n",
    "mean(nparray)"
   ]
  },
  {
   "cell_type": "code",
   "execution_count": 3,
   "id": "2cbbcf26",
   "metadata": {},
   "outputs": [
    {
     "name": "stdout",
     "output_type": "stream",
     "text": [
      "The median is 11\n"
     ]
    }
   ],
   "source": [
    "def median(nparray):\n",
    "    nparray.sort()\n",
    "    #make length a variable\n",
    "    length = len(nparray)\n",
    "    #if number of elements are odd\n",
    "    if (length %2 == 1 ):\n",
    "        median = nparray[length//2]\n",
    "    #if the number is even\n",
    "    else:\n",
    "        median = (nparray[length//2] + nparray[(length//2)-1])/2\n",
    "    print(\"The median is\", median)\n",
    "    \n",
    "median(nparray)"
   ]
  },
  {
   "cell_type": "code",
   "execution_count": 4,
   "id": "d4f83d5c",
   "metadata": {},
   "outputs": [
    {
     "name": "stdout",
     "output_type": "stream",
     "text": [
      "Counter({7: 2, 11: 2, 5: 1, 6: 1, 8: 1, 10: 1, 12: 1, 14: 1, 15: 1, 16: 1, 17: 1, 18: 1, 19: 1})\n",
      "The mode is/are:  [7, 11]\n",
      "The most number of appearences was/were 2\n"
     ]
    }
   ],
   "source": [
    "def mode(nparray):\n",
    "    result = []  \n",
    "    freq = Counter(nparray)\n",
    "    maxV = freq.most_common(1) [0][1]\n",
    "    print(freq)    \n",
    "   \n",
    "   \n",
    "    for i in freq.items():        \n",
    "        if i[1] == maxV:\n",
    "            result.append(i[0])\n",
    "       \n",
    "    print(\"The mode is/are: \", result)  \n",
    "    print(\"The most number of appearences was/were\" , maxV)\n",
    "\n",
    "\n",
    "mode(nparray)"
   ]
  }
 ],
 "metadata": {
  "kernelspec": {
   "display_name": "Python 3",
   "language": "python",
   "name": "python3"
  },
  "language_info": {
   "codemirror_mode": {
    "name": "ipython",
    "version": 3
   },
   "file_extension": ".py",
   "mimetype": "text/x-python",
   "name": "python",
   "nbconvert_exporter": "python",
   "pygments_lexer": "ipython3",
   "version": "3.8.8"
  }
 },
 "nbformat": 4,
 "nbformat_minor": 5
}
