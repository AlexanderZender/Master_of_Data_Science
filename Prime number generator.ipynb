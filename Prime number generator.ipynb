{
 "cells": [
  {
   "cell_type": "markdown",
   "id": "c40cdc0f",
   "metadata": {},
   "source": [
    "Function to generate prime numbers by trial and division"
   ]
  },
  {
   "cell_type": "code",
   "execution_count": 1,
   "id": "1210dd2e",
   "metadata": {},
   "outputs": [
    {
     "name": "stdout",
     "output_type": "stream",
     "text": [
      "[3, 5, 7, 11, 13, 17, 19]\n"
     ]
    }
   ],
   "source": [
    "from math import isqrt\n",
    "def prime(lower, upper):\n",
    "    results = []\n",
    "    #true as the program checks till proven false\n",
    "       \n",
    "    for i in range(lower,upper,2):\n",
    "        current = True\n",
    "        for a in range(3,(isqrt(i)+1),2):\n",
    "            if i%a == 0:\n",
    "                current = False\n",
    "                break\n",
    "        if current == True:\n",
    "            results.append(i)\n",
    "    return results\n",
    "           \n",
    "print(prime(3, 20))"
   ]
  }
 ],
 "metadata": {
  "kernelspec": {
   "display_name": "Python 3",
   "language": "python",
   "name": "python3"
  },
  "language_info": {
   "codemirror_mode": {
    "name": "ipython",
    "version": 3
   },
   "file_extension": ".py",
   "mimetype": "text/x-python",
   "name": "python",
   "nbconvert_exporter": "python",
   "pygments_lexer": "ipython3",
   "version": "3.8.8"
  }
 },
 "nbformat": 4,
 "nbformat_minor": 5
}
